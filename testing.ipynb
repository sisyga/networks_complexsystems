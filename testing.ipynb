{
 "cells": [
  {
   "cell_type": "code",
   "execution_count": 1,
   "metadata": {
    "collapsed": true
   },
   "outputs": [],
   "source": [
    "import numpy as np\n",
    "from matplotlib import pyplot as plt\n",
    "from matplotlib.cm import ScalarMappable\n",
    "import networkx as nx\n",
    "import osmnx as ox\n",
    "import seaborn as sns\n",
    "from itertools import product\n",
    "import pickle as pkl\n",
    "from randomnetworkmodel import *\n",
    "from street_network_from_json import *\n",
    "import pandas as pd\n",
    "import matplotlib as mpl"
   ]
  },
  {
   "cell_type": "code",
   "execution_count": 2,
   "outputs": [],
   "source": [
    "G = get_randomnetwork(5, 5, .3)\n",
    "nx.set_edge_attributes(G, nx.edge_betweenness_centrality(G, weight='weight'), name='betweenness_centrality')\n",
    "nx.set_edge_attributes(G, betweenness_centrality_impact(G), name='edge_impact')\n",
    "pos = nx.get_node_attributes(G, 'pos')"
   ],
   "metadata": {
    "collapsed": false,
    "pycharm": {
     "name": "#%%\n"
    }
   }
  },
  {
   "cell_type": "code",
   "execution_count": 3,
   "outputs": [
    {
     "name": "stdout",
     "output_type": "stream",
     "text": [
      "dict_values([0.08, 0.11333333333333334, 0.16, 0.0033333333333333335, 0.07666666666666667, 0.060000000000000005, 0.02666666666666667, 0.09333333333333334, 0.08, 0.12666666666666668, 0.07333333333333333, 0.12000000000000001, 0.3166666666666667, 0.2566666666666667, 0.20333333333333334, 0.04666666666666667, 0.5, 0.11, 0.08, 0.15333333333333335, 0.22, 0.2833333333333333, 0.05333333333333334, 0.17666666666666667, 0.28, 0.05, 0.043333333333333335, 0.030000000000000002, 0.14, 0.12333333333333334, 0.11666666666666667, 0.08333333333333334])\n"
     ]
    },
    {
     "data": {
      "text/plain": "<Figure size 432x288 with 2 Axes>",
      "image/png": "[encoded data removed]"
     },
     "metadata": {
      "needs_background": "light"
     },
     "output_type": "display_data"
    }
   ],
   "source": [
    "cm = plt.get_cmap('cool')\n",
    "\n",
    "bc = nx.get_edge_attributes(G, 'betweenness_centrality').values()\n",
    "print(bc)\n",
    "norm = mpl.colors.Normalize(vmin=min(bc), vmax=max(bc))\n",
    "# pos = nx.get_node_attributes(G, 'pos')\n",
    "line = nx.draw_networkx(G, pos=pos, with_labels=False, node_color='k', alpha=1, width=2,\n",
    "                 edge_color=bc, linewidths=0, edge_cmap=cm, node_size=.1)\n",
    "# plt.colorbar(ScalarMappable(cmap=cm), panchor=False, label='Edge impact')\n",
    "plt.colorbar(mappable=ScalarMappable(norm=norm, cmap=cm), ax=plt.gca(), label='Betweenness centrality', orientation='horizontal', shrink=.3)\n",
    "plt.gca().set_aspect('equal')\n",
    "plt.tight_layout()"
   ],
   "metadata": {
    "collapsed": false,
    "pycharm": {
     "name": "#%%\n"
    }
   }
  },
  {
   "cell_type": "code",
   "execution_count": 4,
   "outputs": [
    {
     "name": "stdout",
     "output_type": "stream",
     "text": [
      "dict_values([0.06743040900412023, -0.024218671490302324, -0.04029745754195524, -0.033865943121294206, -0.03145412521354629, -0.04029745754195524, -0.051552607778112325, -0.09496533011757569, -0.049944729172947344, -0.07888654406592255, -0.0226107928851369, -0.0684353331323484, -0.09978896593307196, -0.06763139382976546, -0.024218671490302324, -0.05074866847553006, 0.6350115566274745, -0.07647472615817463, 0.0995879811074264, 0.21133554416641553, 0.3029846246608381, -0.10461260174856779, -0.07084715104009631, -0.07888654406592299, 0.3745352225906946, -0.0443171540548688, -0.0427092754497036, -0.030650185910963357, -0.033865943121293984, -0.04351321475228609, -0.03466988242387692, -0.02261079288513712])\n"
     ]
    },
    {
     "data": {
      "text/plain": "<Figure size 432x288 with 2 Axes>",
      "image/png": "[encoded data removed]"
     },
     "metadata": {
      "needs_background": "light"
     },
     "output_type": "display_data"
    }
   ],
   "source": [
    "cm = plt.get_cmap('coolwarm')\n",
    "\n",
    "ei = nx.get_edge_attributes(G, 'edge_impact').values()\n",
    "print(ei)\n",
    "norm = mpl.colors.Normalize(vmin=min(ei), vmax=max(ei))\n",
    "# pos = nx.get_node_attributes(G, 'pos')\n",
    "line = nx.draw_networkx(G, pos=pos, with_labels=False, node_color='k', alpha=1, width=2,\n",
    "                 edge_color=ei, linewidths=0, edge_cmap=cm, node_size=.1)\n",
    "# plt.colorbar(ScalarMappable(cmap=cm), panchor=False, label='Edge impact')\n",
    "plt.colorbar(mappable=ScalarMappable(norm=norm, cmap=cm), ax=plt.gca(), label='Edge impact', orientation='horizontal', shrink=.3)\n",
    "plt.gca().set_aspect('equal')\n",
    "\n",
    "plt.tight_layout()"
   ],
   "metadata": {
    "collapsed": false,
    "pycharm": {
     "name": "#%%\n"
    }
   }
  },
  {
   "cell_type": "markdown",
   "source": [
    "Notes:\n",
    "- Negative \"edge impact\" means decreasing the centrality of the network, positive impact increases the centrality\n",
    "- caveat: increasing centrality can mean that the graph becomes disconnected\n",
    "\n"
   ],
   "metadata": {
    "collapsed": false,
    "pycharm": {
     "name": "#%% md\n"
    }
   }
  }
 ],
 "metadata": {
  "kernelspec": {
   "display_name": "Python 3",
   "language": "python",
   "name": "python3"
  },
  "language_info": {
   "codemirror_mode": {
    "name": "ipython",
    "version": 2
   },
   "file_extension": ".py",
   "mimetype": "text/x-python",
   "name": "python",
   "nbconvert_exporter": "python",
   "pygments_lexer": "ipython2",
   "version": "2.7.6"
  }
 },
 "nbformat": 4,
 "nbformat_minor": 0
}