{
 "cells": [
  {
   "cell_type": "code",
   "execution_count": 20,
   "metadata": {
    "collapsed": true
   },
   "outputs": [],
   "source": [
    "import numpy as np\n",
    "from matplotlib import pyplot as plt\n",
    "from matplotlib.cm import ScalarMappable\n",
    "import networkx as nx\n",
    "import osmnx as ox\n",
    "import seaborn as sns\n",
    "from itertools import product\n",
    "import pickle as pkl\n",
    "from randomnetworkmodel import *\n",
    "from street_network_from_json import *\n",
    "import pandas as pd\n",
    "import matplotlib as mpl"
   ]
  },
  {
   "cell_type": "code",
   "execution_count": 64,
   "outputs": [],
   "source": [
    "G = get_randomnetwork(5, 5, .3)\n",
    "nx.set_edge_attributes(G, nx.edge_betweenness_centrality(G, weight='weight'), name='betweenness_centrality')\n",
    "nx.set_edge_attributes(G, calc_bc_impact(G), name='edge_impact')\n",
    "pos = nx.get_node_attributes(G, 'pos')"
   ],
   "metadata": {
    "collapsed": false,
    "pycharm": {
     "name": "#%%\n"
    }
   }
  },
  {
   "cell_type": "code",
   "execution_count": 65,
   "outputs": [
    {
     "name": "stdout",
     "output_type": "stream",
     "text": [
      "dict_values([0.26666666666666666, 0.2566666666666667, 0.043333333333333335, 0.14666666666666667, 0.22, 0.27666666666666667, 0.15333333333333335, 0.08, 0.07666666666666667, 0.30000000000000004, 0.01, 0.23333333333333334, 0.28, 0.4, 0.4133333333333334, 0.1, 0.4133333333333334, 0.1, 0.42000000000000004, 0.42000000000000004, 0.13333333333333333, 0.16, 0.18666666666666668, 0.21333333333333335, 0.32, 0.35333333333333333, 0.38])\n"
     ]
    },
    {
     "data": {
      "text/plain": "<Figure size 432x288 with 2 Axes>",
      "image/png": "[encoded data removed]"
     },
     "metadata": {
      "needs_background": "light"
     },
     "output_type": "display_data"
    }
   ],
   "source": [
    "cm = plt.get_cmap('cool')\n",
    "\n",
    "bc = nx.get_edge_attributes(G, 'betweenness_centrality').values()\n",
    "print(bc)\n",
    "norm = mpl.colors.Normalize(vmin=min(bc), vmax=max(bc))\n",
    "# pos = nx.get_node_attributes(G, 'pos')\n",
    "line = nx.draw_networkx(G, pos=pos, with_labels=False, node_color='k', alpha=1, width=2,\n",
    "                 edge_color=bc, linewidths=0, edge_cmap=cm, node_size=.1)\n",
    "# plt.colorbar(ScalarMappable(cmap=cm), panchor=False, label='Edge impact')\n",
    "plt.colorbar(mappable=ScalarMappable(norm=norm, cmap=cm), ax=plt.gca(), label='Betweenness centrality', orientation='horizontal', shrink=.3)\n",
    "plt.gca().set_aspect('equal')\n",
    "plt.tight_layout()"
   ],
   "metadata": {
    "collapsed": false,
    "pycharm": {
     "name": "#%%\n"
    }
   }
  },
  {
   "cell_type": "code",
   "execution_count": 66,
   "outputs": [
    {
     "name": "stdout",
     "output_type": "stream",
     "text": [
      "dict_values([-0.34776733491993017, -0.06405550401355309, -0.05207534992537588, -0.2824210398935094, 0.22455729901980592, -0.05261990238392933, 0.15049816465652877, 0.06282521882941394, -0.04063974829575234, -0.04281795812996636, -0.04118430075430579, -0.10271872857085218, -0.09182767939978209, -0.10271872857085218, -0.1190553023274572, -0.04172885321285924, -0.2007381711104832, -0.23885684320922884, -0.16806502359727293, -0.1408374006695976, -0.2007381711104832, -0.1680650235972727, -0.14083740066959738, -0.1190553023274572, -0.08638215481424694, -0.08638215481424694, -0.09182767939978209])\n"
     ]
    },
    {
     "data": {
      "text/plain": "<Figure size 432x288 with 2 Axes>",
      "image/png": "[encoded data removed]"
     },
     "metadata": {
      "needs_background": "light"
     },
     "output_type": "display_data"
    }
   ],
   "source": [
    "cm = plt.get_cmap('coolwarm')\n",
    "\n",
    "ei = nx.get_edge_attributes(G, 'edge_impact').values()\n",
    "print(ei)\n",
    "norm = mpl.colors.Normalize(vmin=min(ei), vmax=max(ei))\n",
    "# pos = nx.get_node_attributes(G, 'pos')\n",
    "line = nx.draw_networkx(G, pos=pos, with_labels=False, node_color='k', alpha=1, width=2,\n",
    "                 edge_color=ei, linewidths=0, edge_cmap=cm, node_size=.1)\n",
    "# plt.colorbar(ScalarMappable(cmap=cm), panchor=False, label='Edge impact')\n",
    "plt.colorbar(mappable=ScalarMappable(norm=norm, cmap=cm), ax=plt.gca(), label='Edge impact', orientation='horizontal', shrink=.3)\n",
    "plt.gca().set_aspect('equal')\n",
    "\n",
    "plt.tight_layout()"
   ],
   "metadata": {
    "collapsed": false,
    "pycharm": {
     "name": "#%%\n"
    }
   }
  },
  {
   "cell_type": "markdown",
   "source": [
    "Notes:\n",
    "- Negative \"edge impact\" means decreasing the centrality of the network, positive impact increases the centrality\n",
    "- caveat: increasing centrality might mean, that the\n",
    "\n"
   ],
   "metadata": {
    "collapsed": false,
    "pycharm": {
     "name": "#%% md\n"
    }
   }
  }
 ],
 "metadata": {
  "kernelspec": {
   "display_name": "Python 3",
   "language": "python",
   "name": "python3"
  },
  "language_info": {
   "codemirror_mode": {
    "name": "ipython",
    "version": 2
   },
   "file_extension": ".py",
   "mimetype": "text/x-python",
   "name": "python",
   "nbconvert_exporter": "python",
   "pygments_lexer": "ipython2",
   "version": "2.7.6"
  }
 },
 "nbformat": 4,
 "nbformat_minor": 0
}