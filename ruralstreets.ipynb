{
 "cells": [
  {
   "cell_type": "code",
   "execution_count": null,
   "outputs": [],
   "source": [
    "import numpy as np\n",
    "from matplotlib import pyplot as plt\n",
    "from matplotlib.cm import ScalarMappable\n",
    "import matplotlib as mpl\n",
    "import networkx as nx\n",
    "import osmnx as ox\n",
    "import seaborn as sns\n",
    "from itertools import product\n",
    "import pickle as pkl\n",
    "from randomnetworkmodel import *\n",
    "from street_network_from_json import *\n",
    "import pandas as pd"
   ],
   "metadata": {
    "collapsed": false,
    "pycharm": {
     "name": "#%%\n"
    }
   }
  },
  {
   "cell_type": "markdown",
   "source": [
    "Again, we have the bimodal distribution, but this time the distributions are closer to each other.\n",
    "## 2 Random network model"
   ],
   "metadata": {
    "collapsed": false
   }
  },
  {
   "cell_type": "code",
   "execution_count": null,
   "outputs": [],
   "source": [
    "cs = 3, 5, 7\n",
    "ns = 20, 50, #100\n",
    "rs = .3, .9\n",
    "reps = 1\n",
    "paramscan = [{'C': c, 'n': n, 'r': r, 'rep': i, 'G': get_randomnetwork(n, c, r)} for c, n, r, i in\n",
    "             product(cs, ns, rs, range(reps))]\n",
    "\n",
    "Gdf = pd.DataFrame(paramscan)\n",
    "Gdf.G.apply(lambda x: nx.set_edge_attributes(x, nx.edge_betweenness_centrality(x, weight='weight'), name='betweenness centrality'))\n",
    "Gdf.G.apply(lambda x: nx.set_edge_attributes(x, calc_bc_impact(x), name='edge_impact'))"
   ],
   "metadata": {
    "collapsed": false,
    "pycharm": {
     "name": "#%%\n"
    }
   }
  },
  {
   "cell_type": "code",
   "execution_count": null,
   "outputs": [],
   "source": [
    "Gdf.G.iloc[0].edges(data=True)"
   ],
   "metadata": {
    "collapsed": false,
    "pycharm": {
     "name": "#%%\n"
    }
   }
  },
  {
   "cell_type": "code",
   "execution_count": null,
   "outputs": [],
   "source": [
    "r = rs[0]\n",
    "fig, axs = plt.subplots(nrows=len(cs), ncols=len(ns), sharex=True, sharey=True, facecolor='w')\n",
    "plt.suptitle('$r = {}$'.format(r))\n",
    "cm = plt.get_cmap('coolwarm')\n",
    "for (c, n), ax in zip(product(cs, ns), axs.flatten()):\n",
    "    # ax.set_title('$C = {}$, $n = {}$'.format(c, n))\n",
    "    G = Gdf.loc[(Gdf.n==n) & (Gdf.C==c) & (Gdf.r==r), 'G'].iloc[0]\n",
    "    # bc = list(nx.edge_betweenness_centrality(G, weight='weight').values())\n",
    "    # ax.set_title('$g(G) = {:.2f}$'.format(np.mean(bc)))\n",
    "    ei = nx.get_edge_attributes(G, 'edge_impact').values()\n",
    "    norm = mpl.colors.Normalize(vmin=min(ei), vmax=max(ei))\n",
    "    pos = nx.get_node_attributes(G, 'pos')\n",
    "    nx.draw_networkx(G, pos=pos, ax=ax, with_labels=False, node_size=.1, node_color='k', alpha=1, width=2,\n",
    "                     edge_color=ei, linewidths=0,\n",
    "                     edge_cmap=cm)\n",
    "    ax.set_axis_off()\n",
    "    plt.colorbar(mappable=ScalarMappable(norm=norm, cmap=cm), ax=ax, label='Edge impact',\n",
    "                 orientation='horizontal')\n",
    "    ax.set_aspect('equal')\n"
   ],
   "metadata": {
    "collapsed": false,
    "pycharm": {
     "name": "#%%\n"
    }
   }
  },
  {
   "cell_type": "code",
   "execution_count": null,
   "outputs": [],
   "source": [
    "lengths = [nx.get_edge_attributes(G, 'weight').values() for G in Gdf.G]\n",
    "fig, axs = plt.subplots(nrows=len(cs), ncols=len(ns), sharex=True, sharey=True, facecolor='w')\n",
    "plt.suptitle('Distance distribution $r = {}$'.format(r))\n",
    "for (c, n), ax, length in zip(product(cs, ns), axs.flatten(), lengths):\n",
    "    ax.set_title('$C = {}$, $n = {}$'.format(c, n))\n",
    "    sns.histplot(length, log_scale=True, stat='density', ax=ax, legend=False)\n"
   ],
   "metadata": {
    "collapsed": false,
    "pycharm": {
     "name": "#%%\n"
    }
   }
  },
  {
   "cell_type": "code",
   "execution_count": null,
   "outputs": [],
   "source": [
    "ebcs = [nx.get_edge_attributes(G, 'betweenness centrality').values() for G in Gdf.G]\n",
    "fig, axs = plt.subplots(nrows=len(cs), ncols=len(ns), sharex=True, sharey=True, facecolor='w')\n",
    "plt.suptitle('Edge betweenness centrality $r = {}$'.format(r))\n",
    "for (c, n), ax, ebc in zip(product(cs, ns), axs.flatten(), ebcs):\n",
    "    ax.set_title('$C = {}$, $n = {}$'.format(c, n))\n",
    "    sns.histplot(ebc, log_scale=False, stat='density', ax=ax, legend=False)"
   ],
   "metadata": {
    "collapsed": false,
    "pycharm": {
     "name": "#%%\n"
    }
   }
  },
  {
   "cell_type": "code",
   "execution_count": null,
   "outputs": [],
   "source": [
    "eis = [nx.get_edge_attributes(G, 'edge_impact').values() for G in Gdf.G]\n",
    "fig, axs = plt.subplots(nrows=len(cs), ncols=len(ns), sharex=True, sharey=True, facecolor='w')\n",
    "plt.suptitle('Edge impact $r = {}$'.format(r))\n",
    "for (c, n), ax, ebc in zip(product(cs, ns), axs.flatten(), ebcs):\n",
    "    ax.set_title('$C = {}$, $n = {}$'.format(c, n))\n",
    "    sns.histplot(ebc, log_scale=False, stat='density', ax=ax, legend=False)\n"
   ],
   "metadata": {
    "collapsed": false,
    "pycharm": {
     "name": "#%%\n"
    }
   }
  },
  {
   "cell_type": "code",
   "execution_count": null,
   "outputs": [],
   "source": [
    "r = rs[1]\n",
    "fig, axs = plt.subplots(nrows=len(cs), ncols=len(ns), sharex=True, sharey=True, facecolor='w')\n",
    "plt.suptitle('$r = {}$'.format(r))\n",
    "Gs = []\n",
    "for (c, n), ax in zip(product(cs, ns), axs.flatten()):\n",
    "    ax.set_title('$C = {}$, $n = {}$'.format(c, n))\n",
    "    G, pos = get_randomnetwork(n, c, r)\n",
    "    nx.draw_networkx(G, pos=pos, ax=ax, with_labels=False, node_size=.1, node_color='k', alpha=1, width=2,\n",
    "                     edge_color=nx.edge_betweenness_centrality(G, weight='weight').values(), linewidths=0,\n",
    "                     edge_cmap=plt.get_cmap('cool'))\n",
    "    plt.tight_layout()\n",
    "    ax.set_axis_off()\n",
    "    Gs.append(G)"
   ],
   "metadata": {
    "collapsed": false,
    "pycharm": {
     "name": "#%%\n"
    }
   }
  },
  {
   "cell_type": "code",
   "execution_count": null,
   "outputs": [],
   "source": [
    "lengths = [nx.get_edge_attributes(G, 'weight').values() for G in Gs]\n",
    "fig, axs = plt.subplots(nrows=len(cs), ncols=len(ns), sharex=True, sharey=True, facecolor='w')\n",
    "plt.suptitle('Link lengths $r = {}$'.format(r))\n",
    "for (c, n), ax, length in zip(product(cs, ns), axs.flatten(), lengths):\n",
    "    ax.set_title('$C = {}$, $n = {}$'.format(c, n))\n",
    "    sns.histplot(length, log_scale=True, stat='density', ax=ax, legend=False)"
   ],
   "metadata": {
    "collapsed": false,
    "pycharm": {
     "name": "#%%\n"
    }
   }
  },
  {
   "cell_type": "code",
   "execution_count": null,
   "outputs": [],
   "source": [
    "ebcs = [nx.edge_betweenness_centrality(G, weight='weight').values() for G in Gs]\n",
    "fig, axs = plt.subplots(nrows=len(cs), ncols=len(ns), sharex=True, sharey=True, facecolor='w')\n",
    "plt.suptitle('Edge betweenness centrality $r = {}$'.format(r))\n",
    "for (c, n), ax, ebc in zip(product(cs, ns), axs.flatten(), ebcs):\n",
    "    ax.set_title('$C = {}$, $n = {}$'.format(c, n))\n",
    "    sns.histplot(ebc, log_scale=True, stat='density', ax=ax, legend=False)\n"
   ],
   "metadata": {
    "collapsed": false,
    "pycharm": {
     "name": "#%%\n"
    }
   }
  },
  {
   "cell_type": "code",
   "execution_count": null,
   "outputs": [],
   "source": [
    "r = 0.8\n",
    "fig, axs = plt.subplots(nrows=len(cs), ncols=len(ns), sharex=True, sharey=True, facecolor='w')\n",
    "plt.suptitle('$r = {}$'.format(r))\n",
    "Gs = []\n",
    "for (c, n), ax in zip(product(cs, ns), axs.flatten()):\n",
    "    ax.set_title('$C = {}$, $n = {}$'.format(c, n))\n",
    "    G, pos = get_randomnetwork(n, c, r)\n",
    "    nx.draw_networkx(G, pos=pos, ax=ax, with_labels=False, node_size=.1, node_color='k', alpha=1, width=2,\n",
    "                     edge_color=nx.edge_betweenness_centrality(G, weight='weight').values(), linewidths=0,\n",
    "                     edge_cmap=plt.get_cmap('cool'))\n",
    "    plt.tight_layout()\n",
    "    ax.set_axis_off()\n",
    "    Gs.append(G)"
   ],
   "metadata": {
    "collapsed": false,
    "pycharm": {
     "name": "#%%\n"
    }
   }
  },
  {
   "cell_type": "code",
   "execution_count": null,
   "outputs": [],
   "source": [
    "lengths = [nx.get_edge_attributes(G, 'weight').values() for G in Gs]\n",
    "fig, axs = plt.subplots(nrows=len(cs), ncols=len(ns), sharex=True, sharey=True, facecolor='w')\n",
    "plt.suptitle('Links length $r = {}$'.format(r))\n",
    "for (c, n), ax, length in zip(product(cs, ns), axs.flatten(), lengths):\n",
    "    ax.set_title('$C = {}$, $n = {}$'.format(c, n))\n",
    "    sns.histplot(length, log_scale=True, stat='density', ax=ax, legend=False)"
   ],
   "metadata": {
    "collapsed": false,
    "pycharm": {
     "name": "#%%\n"
    }
   }
  },
  {
   "cell_type": "code",
   "execution_count": null,
   "outputs": [],
   "source": [
    "ebcs = [nx.edge_betweenness_centrality(G, weight='weight').values() for G in Gs]\n",
    "fig, axs = plt.subplots(nrows=len(cs), ncols=len(ns), sharex=True, sharey=True, facecolor='w')\n",
    "plt.suptitle('Edge betweenness centrality $r = {}$'.format(r))\n",
    "for (c, n), ax, ebc in zip(product(cs, ns), axs.flatten(), ebcs):\n",
    "    ax.set_title('$C = {}$, $n = {}$'.format(c, n))\n",
    "    sns.histplot(ebc, log_scale=True, stat='density', ax=ax, legend=False)\n"
   ],
   "metadata": {
    "collapsed": false,
    "pycharm": {
     "name": "#%%\n"
    }
   }
  },
  {
   "cell_type": "code",
   "execution_count": null,
   "outputs": [],
   "source": [
    "r = 1.\n",
    "fig, axs = plt.subplots(nrows=len(cs), ncols=len(ns), sharex=True, sharey=True, facecolor='w')\n",
    "plt.suptitle('$r = {}$'.format(r))\n",
    "Gs = []\n",
    "for (c, n), ax in zip(product(cs, ns), axs.flatten()):\n",
    "    ax.set_title('$C = {}$, $n = {}$'.format(c, n))\n",
    "    G, pos = get_randomnetwork(n, c, r)\n",
    "    nx.draw_networkx(G, pos=pos, ax=ax, with_labels=False, node_size=.1, node_color='k', alpha=1, width=2,\n",
    "                     edge_color=nx.edge_betweenness_centrality(G, weight='weight').values(), linewidths=0,\n",
    "                     edge_cmap=plt.get_cmap('cool'))\n",
    "    plt.tight_layout()\n",
    "    ax.set_axis_off()\n",
    "    Gs.append(G)"
   ],
   "metadata": {
    "collapsed": false,
    "pycharm": {
     "name": "#%%\n"
    }
   }
  },
  {
   "cell_type": "code",
   "execution_count": null,
   "outputs": [],
   "source": [
    "lengths = [nx.get_edge_attributes(G, 'weight').values() for G in Gs]\n",
    "fig, axs = plt.subplots(nrows=len(cs), ncols=len(ns), sharex=True, sharey=True, facecolor='w')\n",
    "plt.suptitle('Link length $r = {}$'.format(r))\n",
    "for (c, n), ax, length in zip(product(cs, ns), axs.flatten(), lengths):\n",
    "    ax.set_title('$C = {}$, $n = {}$'.format(c, n))\n",
    "    sns.histplot(length, log_scale=True, stat='density', ax=ax, legend=False)"
   ],
   "metadata": {
    "collapsed": false,
    "pycharm": {
     "name": "#%%\n"
    }
   }
  },
  {
   "cell_type": "code",
   "execution_count": null,
   "outputs": [],
   "source": [
    "ebcs = [nx.edge_betweenness_centrality(G, weight='weight').values() for G in Gs]\n",
    "fig, axs = plt.subplots(nrows=len(cs), ncols=len(ns), sharex=True, sharey=True, facecolor='w')\n",
    "plt.suptitle('Edge betweenness centrality $r = {}$'.format(r))\n",
    "for (c, n), ax, ebc in zip(product(cs, ns), axs.flatten(), ebcs):\n",
    "    ax.set_title('$C = {}$, $n = {}$'.format(c, n))\n",
    "    sns.histplot(ebc, log_scale=True, stat='density', ax=ax, legend=False)\n"
   ],
   "metadata": {
    "collapsed": false,
    "pycharm": {
     "name": "#%%\n"
    }
   }
  },
  {
   "cell_type": "code",
   "execution_count": null,
   "outputs": [],
   "source": [],
   "metadata": {
    "collapsed": false,
    "pycharm": {
     "name": "#%%\n"
    }
   }
  }
 ],
 "metadata": {
  "kernelspec": {
   "display_name": "Python 3",
   "language": "python",
   "name": "python3"
  },
  "language_info": {
   "codemirror_mode": {
    "name": "ipython",
    "version": 2
   },
   "file_extension": ".py",
   "mimetype": "text/x-python",
   "name": "python",
   "nbconvert_exporter": "python",
   "pygments_lexer": "ipython2",
   "version": "2.7.6"
  }
 },
 "nbformat": 4,
 "nbformat_minor": 0
}